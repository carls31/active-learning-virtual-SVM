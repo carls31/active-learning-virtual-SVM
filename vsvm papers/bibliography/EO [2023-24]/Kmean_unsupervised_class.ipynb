{
 "cells": [
  {
   "cell_type": "code",
   "execution_count": null,
   "metadata": {
    "id": "-Vv7ePM-D3vY"
   },
   "outputs": [],
   "source": [
    "# Install necessary libraries\n",
    "!pip install rasterio geopandas scikit-learn matplotlib seaborn"
   ]
  },
  {
   "cell_type": "code",
   "execution_count": null,
   "metadata": {
    "id": "5UJb5SKPPSIH"
   },
   "outputs": [],
   "source": [
    "# Import necessary libraries\n",
    "import rasterio\n",
    "from rasterio.plot import show\n",
    "import numpy as np\n",
    "import matplotlib.pyplot as plt\n",
    "from matplotlib.colors import ListedColormap\n",
    "import seaborn as sns\n",
    "from sklearn.cluster import KMeans\n",
    "from sklearn.metrics import confusion_matrix\n",
    "import geopandas as gpd"
   ]
  },
  {
   "cell_type": "markdown",
   "metadata": {
    "id": "U063hjf1PUAk"
   },
   "source": [
    "# Step 1: Read the multiband tiff image (import in Colab or from your Google Drive folder)"
   ]
  },
  {
   "cell_type": "code",
   "execution_count": null,
   "metadata": {
    "id": "X6z_MRic7lnS"
   },
   "outputs": [],
   "source": [
    "from google.colab import drive\n",
    "drive.mount('/content/drive')"
   ]
  },
  {
   "cell_type": "code",
   "execution_count": null,
   "metadata": {
    "id": "hCzMcIAfPgSE"
   },
   "outputs": [],
   "source": [
    "image_path = '/content/drive/MyDrive/Colab Notebooks/2018_12_7_rgb_nir.tif'  # Update with the correct file path\n",
    "image = rasterio.open(image_path)\n",
    "\n",
    "# Visualize True Color image\n",
    "# Read the band values into numpy arrays\n",
    "red = image.read(3)\n",
    "green = image.read(2)\n",
    "blue = image.read(1)\n",
    "\n",
    "# Function to normalize the grid values\n",
    "def normalize(array):\n",
    "    \"\"\"Normalizes numpy arrays into scale 0.0 - 1.0\"\"\"\n",
    "    array_min, array_max = array.min(), array.max()\n",
    "    return ((array - array_min)/(array_max - array_min))\n",
    "\n",
    "# Normalize the bands\n",
    "redn = normalize(red)\n",
    "greenn = normalize(green)\n",
    "bluen = normalize(blue)\n",
    "\n",
    "rgb = np.dstack((redn, greenn, bluen))\n",
    "\n",
    "plt.imshow(rgb)"
   ]
  },
  {
   "cell_type": "markdown",
   "metadata": {
    "id": "y_6S3SCNPjmk"
   },
   "source": [
    "# Step 2: Preprocess the image by adjusting the array shape for the classifier"
   ]
  },
  {
   "cell_type": "code",
   "execution_count": null,
   "metadata": {
    "id": "-FPZFgb9PnCN"
   },
   "outputs": [],
   "source": [
    "image_data = image.read().transpose(1, 2, 0)  # Move bands to the last axis\n",
    "rows, cols, bands = image_data.shape\n",
    "image_data_reshaped = image_data.reshape(rows * cols, bands)"
   ]
  },
  {
   "cell_type": "markdown",
   "metadata": {
    "id": "5td19mNYPvg9"
   },
   "source": [
    "# Step 3: Perform K-means clustering"
   ]
  },
  {
   "cell_type": "code",
   "execution_count": null,
   "metadata": {
    "id": "scRjfq8oPxbe"
   },
   "outputs": [],
   "source": [
    "num_classes = 2  # Number of classes (clusters)\n",
    "kmeans = KMeans(n_clusters=num_classes, random_state=42)\n",
    "kmeans.fit(image_data_reshaped)\n",
    "predicted_classes = kmeans.labels_.reshape(rows, cols)"
   ]
  },
  {
   "cell_type": "markdown",
   "metadata": {
    "id": "Yx8fXTguP2FL"
   },
   "source": [
    "# Step 4: Visualize the classified image"
   ]
  },
  {
   "cell_type": "code",
   "execution_count": null,
   "metadata": {
    "id": "uZ7o2qI7P49V"
   },
   "outputs": [],
   "source": [
    "colors = ['white', 'black'] # One color for each clusters\n",
    "class_bins = [0, 1]\n",
    "cmap = ListedColormap(colors)\n",
    "\n",
    "show(predicted_classes, cmap=cmap)"
   ]
  },
  {
   "cell_type": "markdown",
   "metadata": {
    "id": "vd0h4z94P9Ez"
   },
   "source": [
    "# Step 5: Save the classified image"
   ]
  },
  {
   "cell_type": "code",
   "execution_count": null,
   "metadata": {
    "id": "3OzBL_LuQDKy"
   },
   "outputs": [],
   "source": [
    "output_image_path = '/content/drive/MyDrive/Colab Notebooks/unsup_classified_image.tif'\n",
    "with rasterio.open(output_image_path, 'w', **image.meta) as dst:\n",
    "    dst.write(predicted_classes.astype(rasterio.uint8), 1)"
   ]
  }
 ],
 "metadata": {
  "colab": {
   "authorship_tag": "ABX9TyPlShIpxGLuQdFOIrCwVoI1",
   "mount_file_id": "1q6VP1eoy31d6JGPwb4sMPJQpJ834LcYT",
   "provenance": []
  },
  "kernelspec": {
   "display_name": "Python 3 (ipykernel)",
   "language": "python",
   "name": "python3"
  },
  "language_info": {
   "codemirror_mode": {
    "name": "ipython",
    "version": 3
   },
   "file_extension": ".py",
   "mimetype": "text/x-python",
   "name": "python",
   "nbconvert_exporter": "python",
   "pygments_lexer": "ipython3",
   "version": "3.11.8"
  }
 },
 "nbformat": 4,
 "nbformat_minor": 4
}
